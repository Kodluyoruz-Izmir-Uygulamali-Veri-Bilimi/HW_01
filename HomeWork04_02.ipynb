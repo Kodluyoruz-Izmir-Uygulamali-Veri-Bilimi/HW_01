{
  "nbformat": 4,
  "nbformat_minor": 0,
  "metadata": {
    "colab": {
      "name": "HomeWork04.02.ipynb",
      "provenance": [],
      "toc_visible": true
    },
    "kernelspec": {
      "name": "python3",
      "display_name": "Python 3"
    }
  },
  "cells": [
    {
      "cell_type": "code",
      "metadata": {
        "id": "TEN4wY1SBCr6"
      },
      "source": [
        "import pandas as pd\n",
        "import numpy as np\n",
        "import matplotlib.pyplot as plt\n",
        "import seaborn as sns"
      ],
      "execution_count": 1,
      "outputs": []
    },
    {
      "cell_type": "code",
      "metadata": {
        "id": "tMVjge7fBu7b",
        "outputId": "7181130d-067e-43d8-f1a9-bf0e2a38e726",
        "colab": {
          "base_uri": "https://localhost:8080/",
          "height": 255
        }
      },
      "source": [
        "titanic = pd.read_csv(\"/content/train.csv\")\n",
        "display(titanic.head(5))"
      ],
      "execution_count": 2,
      "outputs": [
        {
          "output_type": "display_data",
          "data": {
            "text/html": [
              "<div>\n",
              "<style scoped>\n",
              "    .dataframe tbody tr th:only-of-type {\n",
              "        vertical-align: middle;\n",
              "    }\n",
              "\n",
              "    .dataframe tbody tr th {\n",
              "        vertical-align: top;\n",
              "    }\n",
              "\n",
              "    .dataframe thead th {\n",
              "        text-align: right;\n",
              "    }\n",
              "</style>\n",
              "<table border=\"1\" class=\"dataframe\">\n",
              "  <thead>\n",
              "    <tr style=\"text-align: right;\">\n",
              "      <th></th>\n",
              "      <th>PassengerId</th>\n",
              "      <th>Survived</th>\n",
              "      <th>Pclass</th>\n",
              "      <th>Name</th>\n",
              "      <th>Sex</th>\n",
              "      <th>Age</th>\n",
              "      <th>SibSp</th>\n",
              "      <th>Parch</th>\n",
              "      <th>Ticket</th>\n",
              "      <th>Fare</th>\n",
              "      <th>Cabin</th>\n",
              "      <th>Embarked</th>\n",
              "    </tr>\n",
              "  </thead>\n",
              "  <tbody>\n",
              "    <tr>\n",
              "      <th>0</th>\n",
              "      <td>1</td>\n",
              "      <td>0</td>\n",
              "      <td>3</td>\n",
              "      <td>Braund, Mr. Owen Harris</td>\n",
              "      <td>male</td>\n",
              "      <td>22.0</td>\n",
              "      <td>1</td>\n",
              "      <td>0</td>\n",
              "      <td>A/5 21171</td>\n",
              "      <td>7.2500</td>\n",
              "      <td>NaN</td>\n",
              "      <td>S</td>\n",
              "    </tr>\n",
              "    <tr>\n",
              "      <th>1</th>\n",
              "      <td>2</td>\n",
              "      <td>1</td>\n",
              "      <td>1</td>\n",
              "      <td>Cumings, Mrs. John Bradley (Florence Briggs Th...</td>\n",
              "      <td>female</td>\n",
              "      <td>38.0</td>\n",
              "      <td>1</td>\n",
              "      <td>0</td>\n",
              "      <td>PC 17599</td>\n",
              "      <td>71.2833</td>\n",
              "      <td>C85</td>\n",
              "      <td>C</td>\n",
              "    </tr>\n",
              "    <tr>\n",
              "      <th>2</th>\n",
              "      <td>3</td>\n",
              "      <td>1</td>\n",
              "      <td>3</td>\n",
              "      <td>Heikkinen, Miss. Laina</td>\n",
              "      <td>female</td>\n",
              "      <td>26.0</td>\n",
              "      <td>0</td>\n",
              "      <td>0</td>\n",
              "      <td>STON/O2. 3101282</td>\n",
              "      <td>7.9250</td>\n",
              "      <td>NaN</td>\n",
              "      <td>S</td>\n",
              "    </tr>\n",
              "    <tr>\n",
              "      <th>3</th>\n",
              "      <td>4</td>\n",
              "      <td>1</td>\n",
              "      <td>1</td>\n",
              "      <td>Futrelle, Mrs. Jacques Heath (Lily May Peel)</td>\n",
              "      <td>female</td>\n",
              "      <td>35.0</td>\n",
              "      <td>1</td>\n",
              "      <td>0</td>\n",
              "      <td>113803</td>\n",
              "      <td>53.1000</td>\n",
              "      <td>C123</td>\n",
              "      <td>S</td>\n",
              "    </tr>\n",
              "    <tr>\n",
              "      <th>4</th>\n",
              "      <td>5</td>\n",
              "      <td>0</td>\n",
              "      <td>3</td>\n",
              "      <td>Allen, Mr. William Henry</td>\n",
              "      <td>male</td>\n",
              "      <td>35.0</td>\n",
              "      <td>0</td>\n",
              "      <td>0</td>\n",
              "      <td>373450</td>\n",
              "      <td>8.0500</td>\n",
              "      <td>NaN</td>\n",
              "      <td>S</td>\n",
              "    </tr>\n",
              "  </tbody>\n",
              "</table>\n",
              "</div>"
            ],
            "text/plain": [
              "   PassengerId  Survived  Pclass  ...     Fare Cabin  Embarked\n",
              "0            1         0       3  ...   7.2500   NaN         S\n",
              "1            2         1       1  ...  71.2833   C85         C\n",
              "2            3         1       3  ...   7.9250   NaN         S\n",
              "3            4         1       1  ...  53.1000  C123         S\n",
              "4            5         0       3  ...   8.0500   NaN         S\n",
              "\n",
              "[5 rows x 12 columns]"
            ]
          },
          "metadata": {
            "tags": []
          }
        }
      ]
    },
    {
      "cell_type": "code",
      "metadata": {
        "id": "DJ8d8XEnAD_q",
        "outputId": "644cdb64-3139-4e1d-e497-ed37ca60245b",
        "colab": {
          "base_uri": "https://localhost:8080/",
          "height": 68
        }
      },
      "source": [
        "titanic.columns"
      ],
      "execution_count": 3,
      "outputs": [
        {
          "output_type": "execute_result",
          "data": {
            "text/plain": [
              "Index(['PassengerId', 'Survived', 'Pclass', 'Name', 'Sex', 'Age', 'SibSp',\n",
              "       'Parch', 'Ticket', 'Fare', 'Cabin', 'Embarked'],\n",
              "      dtype='object')"
            ]
          },
          "metadata": {
            "tags": []
          },
          "execution_count": 3
        }
      ]
    },
    {
      "cell_type": "markdown",
      "metadata": {
        "id": "Ynm3PyX_B5eb"
      },
      "source": [
        "# Label Encoding"
      ]
    },
    {
      "cell_type": "markdown",
      "metadata": {
        "id": "4NkyzcZxB7GG"
      },
      "source": [
        "Sex değişkenini Mean encoding yaparak encode ediniz. Her kategori için Survived değişkeninin ortalamasını kategori adı ile değiştirebilirsiniz. \n",
        "\n",
        "IPUCU: pandas groupby ve map fonksiyonlarını kullanabilirsiniz."
      ]
    },
    {
      "cell_type": "code",
      "metadata": {
        "id": "grs0gvmKB_XG",
        "outputId": "03864d0e-832b-4ea1-f877-688ddae3328f",
        "colab": {
          "base_uri": "https://localhost:8080/",
          "height": 255
        }
      },
      "source": [
        "import pandas as pd \n",
        "\n",
        "titanic.groupby(['Sex'])[\"Survived\"].count().mean()\n",
        "Mean_encoded_subject = titanic.groupby(['Sex'])['Survived'].mean().to_dict() \n",
        "  \n",
        "titanic['Sex'] =  titanic['Sex'].map(Mean_encoded_subject) \n",
        "  \n",
        "print(titanic)\n"
      ],
      "execution_count": 4,
      "outputs": [
        {
          "output_type": "stream",
          "text": [
            "     PassengerId  Survived  Pclass  ...     Fare  Cabin  Embarked\n",
            "0              1         0       3  ...   7.2500    NaN         S\n",
            "1              2         1       1  ...  71.2833    C85         C\n",
            "2              3         1       3  ...   7.9250    NaN         S\n",
            "3              4         1       1  ...  53.1000   C123         S\n",
            "4              5         0       3  ...   8.0500    NaN         S\n",
            "..           ...       ...     ...  ...      ...    ...       ...\n",
            "886          887         0       2  ...  13.0000    NaN         S\n",
            "887          888         1       1  ...  30.0000    B42         S\n",
            "888          889         0       3  ...  23.4500    NaN         S\n",
            "889          890         1       1  ...  30.0000   C148         C\n",
            "890          891         0       3  ...   7.7500    NaN         Q\n",
            "\n",
            "[891 rows x 12 columns]\n"
          ],
          "name": "stdout"
        }
      ]
    },
    {
      "cell_type": "markdown",
      "metadata": {
        "id": "a2QYLxCKCEmb"
      },
      "source": [
        "Bindikleri Yer (Embarked) değişkenini sklearn OneHotEncoder objesini kullanarak encode edin."
      ]
    },
    {
      "cell_type": "code",
      "metadata": {
        "id": "-pKtqBAeCF9R",
        "outputId": "d7f83636-61d7-4b69-9af0-1de0c16ef7ae",
        "colab": {
          "base_uri": "https://localhost:8080/",
          "height": 391
        }
      },
      "source": [
        "titanic = titanic.replace(0, np.nan).dropna(axis=0).reset_index(drop=True)\n",
        "\n",
        "embarked = titanic.iloc[:,-1:].values\n",
        "\n",
        "from sklearn.preprocessing import LabelEncoder\n",
        "\n",
        "lb = LabelEncoder()\n",
        "\n",
        "embarked[:,0] = lb.fit_transform(embarked[:,0]).astype(str)\n",
        "\n",
        "from sklearn.preprocessing import OneHotEncoder\n",
        "\n",
        "ohe = OneHotEncoder(sparse=False)\n",
        "\n",
        "embarked = ohe.fit_transform(embarked)\n",
        "\n",
        "print(embarked)\n",
        "\n"
      ],
      "execution_count": 5,
      "outputs": [
        {
          "output_type": "stream",
          "text": [
            "[[0. 1.]\n",
            " [0. 1.]\n",
            " [0. 1.]\n",
            " [0. 1.]\n",
            " [0. 1.]\n",
            " [0. 1.]\n",
            " [1. 0.]\n",
            " [1. 0.]\n",
            " [0. 1.]\n",
            " [0. 1.]\n",
            " [0. 1.]\n",
            " [0. 1.]\n",
            " [0. 1.]\n",
            " [1. 0.]\n",
            " [1. 0.]\n",
            " [0. 1.]\n",
            " [1. 0.]\n",
            " [0. 1.]\n",
            " [0. 1.]\n",
            " [0. 1.]\n",
            " [1. 0.]\n",
            " [0. 1.]]\n"
          ],
          "name": "stdout"
        }
      ]
    },
    {
      "cell_type": "markdown",
      "metadata": {
        "id": "IWnsS-nGCVYc"
      },
      "source": [
        "Cabin değişkenini sklearn LabelEncoder veya OrdinalEncoder objesini kullanarak encode edin.\n",
        "\n"
      ]
    },
    {
      "cell_type": "code",
      "metadata": {
        "id": "XbSkUnxdCbDW",
        "outputId": "a10434a7-e6a8-4521-b8fb-5c6c1d200174",
        "colab": {
          "base_uri": "https://localhost:8080/",
          "height": 391
        }
      },
      "source": [
        "\n",
        "cabin = titanic.iloc[:,10:11].values\n",
        "\n",
        "from sklearn.preprocessing import LabelEncoder\n",
        "\n",
        "lb = LabelEncoder()\n",
        "\n",
        "cabin[:,0] = lb.fit_transform(cabin[:,0]).astype(str)\n",
        "\n",
        "print(cabin)"
      ],
      "execution_count": 6,
      "outputs": [
        {
          "output_type": "stream",
          "text": [
            "[['13']\n",
            " ['5']\n",
            " ['12']\n",
            " ['11']\n",
            " ['7']\n",
            " ['4']\n",
            " ['1']\n",
            " ['8']\n",
            " ['11']\n",
            " ['5']\n",
            " ['3']\n",
            " ['3']\n",
            " ['10']\n",
            " ['6']\n",
            " ['0']\n",
            " ['12']\n",
            " ['1']\n",
            " ['3']\n",
            " ['3']\n",
            " ['2']\n",
            " ['9']\n",
            " ['7']]\n"
          ],
          "name": "stdout"
        }
      ]
    },
    {
      "cell_type": "markdown",
      "metadata": {
        "id": "qdIIuCaxCgHI"
      },
      "source": [
        "# Outlier Handling"
      ]
    },
    {
      "cell_type": "markdown",
      "metadata": {
        "id": "4Vg-8OeMCkzA"
      },
      "source": [
        "Fare değişkeni için boxplot çizdiriniz."
      ]
    },
    {
      "cell_type": "code",
      "metadata": {
        "id": "_juw2c2ECnUO",
        "outputId": "ba9f9862-a022-4f9e-f576-523987fd686f",
        "colab": {
          "base_uri": "https://localhost:8080/",
          "height": 428
        }
      },
      "source": [
        "import matplotlib.pyplot as plt \n",
        "fare = titanic.Fare\n",
        "fig = plt.figure(figsize =(10, 7)) \n",
        "  \n",
        "plt.boxplot(fare) \n",
        "  \n",
        "# show plot \n",
        "plt.show()\n"
      ],
      "execution_count": 7,
      "outputs": [
        {
          "output_type": "display_data",
          "data": {
            "image/png": "[encoded data removed]",
            "text/plain": [
              "<Figure size 720x504 with 1 Axes>"
            ]
          },
          "metadata": {
            "tags": [],
            "needs_background": "light"
          }
        }
      ]
    },
    {
      "cell_type": "markdown",
      "metadata": {
        "id": "EFbHL5AlCngr"
      },
      "source": [
        "Fare değişkeninedeki outlier değerleri Z-Score kullanarak tespit ediniz, sınır değerlerini ve kaç tane outlier değer olduğunu yazdırınız.\n",
        "\n"
      ]
    },
    {
      "cell_type": "code",
      "metadata": {
        "id": "uvtexrK7CsMr",
        "outputId": "7981ed18-00dc-4332-fae4-f66dd3a41d20",
        "colab": {
          "base_uri": "https://localhost:8080/",
          "height": 34
        }
      },
      "source": [
        "from scipy.stats import zscore\n",
        "\n",
        "z_score_scipy =zscore(titanic[\"Fare\"])\n",
        "\n",
        "len(list(z_score_scipy))"
      ],
      "execution_count": 8,
      "outputs": [
        {
          "output_type": "execute_result",
          "data": {
            "text/plain": [
              "22"
            ]
          },
          "metadata": {
            "tags": []
          },
          "execution_count": 8
        }
      ]
    },
    {
      "cell_type": "markdown",
      "metadata": {
        "id": "9SAES-XECvd7"
      },
      "source": [
        "Tespit ettiğiniz outlier'ları sınır değerler ile değiştiriniz."
      ]
    },
    {
      "cell_type": "code",
      "metadata": {
        "id": "JTbtAyruCutL",
        "outputId": "755ebfd2-d7e8-4a1a-f2a1-833843f9bb32",
        "colab": {
          "base_uri": "https://localhost:8080/",
          "height": 1000
        }
      },
      "source": [
        "x_df_zscore_replaced_all = titanic.copy()\n",
        "z_score = zscore(titanic[\"Fare\"])\n",
        "upper_replace_value = titanic[z_score<=3][\"Fare\"].max()\n",
        "lower_replace_value = titanic[z_score>=-3][\"Fare\"].min()\n",
        "x_df_zscore_replaced_all = titanic.copy()\n",
        "x_df_zscore_replaced_all[\"Fare\"][z_score>3] = upper_replace_value\n",
        "x_df_zscore_replaced_all[\"Fare\"][z_score<-3] = lower_replace_value\n",
        "x_df_zscore_replaced_all"
      ],
      "execution_count": 9,
      "outputs": [
        {
          "output_type": "stream",
          "text": [
            "/usr/local/lib/python3.6/dist-packages/ipykernel_launcher.py:6: SettingWithCopyWarning: \n",
            "A value is trying to be set on a copy of a slice from a DataFrame\n",
            "\n",
            "See the caveats in the documentation: https://pandas.pydata.org/pandas-docs/stable/user_guide/indexing.html#returning-a-view-versus-a-copy\n",
            "  \n",
            "/usr/local/lib/python3.6/dist-packages/ipykernel_launcher.py:7: SettingWithCopyWarning: \n",
            "A value is trying to be set on a copy of a slice from a DataFrame\n",
            "\n",
            "See the caveats in the documentation: https://pandas.pydata.org/pandas-docs/stable/user_guide/indexing.html#returning-a-view-versus-a-copy\n",
            "  import sys\n"
          ],
          "name": "stderr"
        },
        {
          "output_type": "execute_result",
          "data": {
            "text/html": [
              "<div>\n",
              "<style scoped>\n",
              "    .dataframe tbody tr th:only-of-type {\n",
              "        vertical-align: middle;\n",
              "    }\n",
              "\n",
              "    .dataframe tbody tr th {\n",
              "        vertical-align: top;\n",
              "    }\n",
              "\n",
              "    .dataframe thead th {\n",
              "        text-align: right;\n",
              "    }\n",
              "</style>\n",
              "<table border=\"1\" class=\"dataframe\">\n",
              "  <thead>\n",
              "    <tr style=\"text-align: right;\">\n",
              "      <th></th>\n",
              "      <th>PassengerId</th>\n",
              "      <th>Survived</th>\n",
              "      <th>Pclass</th>\n",
              "      <th>Name</th>\n",
              "      <th>Sex</th>\n",
              "      <th>Age</th>\n",
              "      <th>SibSp</th>\n",
              "      <th>Parch</th>\n",
              "      <th>Ticket</th>\n",
              "      <th>Fare</th>\n",
              "      <th>Cabin</th>\n",
              "      <th>Embarked</th>\n",
              "    </tr>\n",
              "  </thead>\n",
              "  <tbody>\n",
              "    <tr>\n",
              "      <th>0</th>\n",
              "      <td>11</td>\n",
              "      <td>1.0</td>\n",
              "      <td>3</td>\n",
              "      <td>Sandstrom, Miss. Marguerite Rut</td>\n",
              "      <td>0.742038</td>\n",
              "      <td>4.00</td>\n",
              "      <td>1.0</td>\n",
              "      <td>1.0</td>\n",
              "      <td>PP 9549</td>\n",
              "      <td>16.7000</td>\n",
              "      <td>G6</td>\n",
              "      <td>S</td>\n",
              "    </tr>\n",
              "    <tr>\n",
              "      <th>1</th>\n",
              "      <td>89</td>\n",
              "      <td>1.0</td>\n",
              "      <td>1</td>\n",
              "      <td>Fortune, Miss. Mabel Helen</td>\n",
              "      <td>0.742038</td>\n",
              "      <td>23.00</td>\n",
              "      <td>3.0</td>\n",
              "      <td>2.0</td>\n",
              "      <td>19950</td>\n",
              "      <td>263.0000</td>\n",
              "      <td>C23 C25 C27</td>\n",
              "      <td>S</td>\n",
              "    </tr>\n",
              "    <tr>\n",
              "      <th>2</th>\n",
              "      <td>184</td>\n",
              "      <td>1.0</td>\n",
              "      <td>2</td>\n",
              "      <td>Becker, Master. Richard F</td>\n",
              "      <td>0.188908</td>\n",
              "      <td>1.00</td>\n",
              "      <td>2.0</td>\n",
              "      <td>1.0</td>\n",
              "      <td>230136</td>\n",
              "      <td>39.0000</td>\n",
              "      <td>F4</td>\n",
              "      <td>S</td>\n",
              "    </tr>\n",
              "    <tr>\n",
              "      <th>3</th>\n",
              "      <td>194</td>\n",
              "      <td>1.0</td>\n",
              "      <td>2</td>\n",
              "      <td>Navratil, Master. Michel M</td>\n",
              "      <td>0.188908</td>\n",
              "      <td>3.00</td>\n",
              "      <td>1.0</td>\n",
              "      <td>1.0</td>\n",
              "      <td>230080</td>\n",
              "      <td>26.0000</td>\n",
              "      <td>F2</td>\n",
              "      <td>S</td>\n",
              "    </tr>\n",
              "    <tr>\n",
              "      <th>4</th>\n",
              "      <td>249</td>\n",
              "      <td>1.0</td>\n",
              "      <td>1</td>\n",
              "      <td>Beckwith, Mr. Richard Leonard</td>\n",
              "      <td>0.188908</td>\n",
              "      <td>37.00</td>\n",
              "      <td>1.0</td>\n",
              "      <td>1.0</td>\n",
              "      <td>11751</td>\n",
              "      <td>52.5542</td>\n",
              "      <td>D35</td>\n",
              "      <td>S</td>\n",
              "    </tr>\n",
              "    <tr>\n",
              "      <th>5</th>\n",
              "      <td>306</td>\n",
              "      <td>1.0</td>\n",
              "      <td>1</td>\n",
              "      <td>Allison, Master. Hudson Trevor</td>\n",
              "      <td>0.188908</td>\n",
              "      <td>0.92</td>\n",
              "      <td>1.0</td>\n",
              "      <td>2.0</td>\n",
              "      <td>113781</td>\n",
              "      <td>151.5500</td>\n",
              "      <td>C22 C26</td>\n",
              "      <td>S</td>\n",
              "    </tr>\n",
              "    <tr>\n",
              "      <th>6</th>\n",
              "      <td>312</td>\n",
              "      <td>1.0</td>\n",
              "      <td>1</td>\n",
              "      <td>Ryerson, Miss. Emily Borie</td>\n",
              "      <td>0.742038</td>\n",
              "      <td>18.00</td>\n",
              "      <td>2.0</td>\n",
              "      <td>2.0</td>\n",
              "      <td>PC 17608</td>\n",
              "      <td>262.3750</td>\n",
              "      <td>B57 B59 B63 B66</td>\n",
              "      <td>C</td>\n",
              "    </tr>\n",
              "    <tr>\n",
              "      <th>7</th>\n",
              "      <td>320</td>\n",
              "      <td>1.0</td>\n",
              "      <td>1</td>\n",
              "      <td>Spedden, Mrs. Frederic Oakley (Margaretta Corn...</td>\n",
              "      <td>0.742038</td>\n",
              "      <td>40.00</td>\n",
              "      <td>1.0</td>\n",
              "      <td>1.0</td>\n",
              "      <td>16966</td>\n",
              "      <td>134.5000</td>\n",
              "      <td>E34</td>\n",
              "      <td>C</td>\n",
              "    </tr>\n",
              "    <tr>\n",
              "      <th>8</th>\n",
              "      <td>341</td>\n",
              "      <td>1.0</td>\n",
              "      <td>2</td>\n",
              "      <td>Navratil, Master. Edmond Roger</td>\n",
              "      <td>0.188908</td>\n",
              "      <td>2.00</td>\n",
              "      <td>1.0</td>\n",
              "      <td>1.0</td>\n",
              "      <td>230080</td>\n",
              "      <td>26.0000</td>\n",
              "      <td>F2</td>\n",
              "      <td>S</td>\n",
              "    </tr>\n",
              "    <tr>\n",
              "      <th>9</th>\n",
              "      <td>342</td>\n",
              "      <td>1.0</td>\n",
              "      <td>1</td>\n",
              "      <td>Fortune, Miss. Alice Elizabeth</td>\n",
              "      <td>0.742038</td>\n",
              "      <td>24.00</td>\n",
              "      <td>3.0</td>\n",
              "      <td>2.0</td>\n",
              "      <td>19950</td>\n",
              "      <td>263.0000</td>\n",
              "      <td>C23 C25 C27</td>\n",
              "      <td>S</td>\n",
              "    </tr>\n",
              "    <tr>\n",
              "      <th>10</th>\n",
              "      <td>391</td>\n",
              "      <td>1.0</td>\n",
              "      <td>1</td>\n",
              "      <td>Carter, Mr. William Ernest</td>\n",
              "      <td>0.188908</td>\n",
              "      <td>36.00</td>\n",
              "      <td>1.0</td>\n",
              "      <td>2.0</td>\n",
              "      <td>113760</td>\n",
              "      <td>120.0000</td>\n",
              "      <td>B96 B98</td>\n",
              "      <td>S</td>\n",
              "    </tr>\n",
              "    <tr>\n",
              "      <th>11</th>\n",
              "      <td>436</td>\n",
              "      <td>1.0</td>\n",
              "      <td>1</td>\n",
              "      <td>Carter, Miss. Lucile Polk</td>\n",
              "      <td>0.742038</td>\n",
              "      <td>14.00</td>\n",
              "      <td>1.0</td>\n",
              "      <td>2.0</td>\n",
              "      <td>113760</td>\n",
              "      <td>120.0000</td>\n",
              "      <td>B96 B98</td>\n",
              "      <td>S</td>\n",
              "    </tr>\n",
              "    <tr>\n",
              "      <th>12</th>\n",
              "      <td>559</td>\n",
              "      <td>1.0</td>\n",
              "      <td>1</td>\n",
              "      <td>Taussig, Mrs. Emil (Tillie Mandelbaum)</td>\n",
              "      <td>0.742038</td>\n",
              "      <td>39.00</td>\n",
              "      <td>1.0</td>\n",
              "      <td>1.0</td>\n",
              "      <td>110413</td>\n",
              "      <td>79.6500</td>\n",
              "      <td>E67</td>\n",
              "      <td>S</td>\n",
              "    </tr>\n",
              "    <tr>\n",
              "      <th>13</th>\n",
              "      <td>582</td>\n",
              "      <td>1.0</td>\n",
              "      <td>1</td>\n",
              "      <td>Thayer, Mrs. John Borland (Marian Longstreth M...</td>\n",
              "      <td>0.742038</td>\n",
              "      <td>39.00</td>\n",
              "      <td>1.0</td>\n",
              "      <td>1.0</td>\n",
              "      <td>17421</td>\n",
              "      <td>110.8833</td>\n",
              "      <td>C68</td>\n",
              "      <td>C</td>\n",
              "    </tr>\n",
              "    <tr>\n",
              "      <th>14</th>\n",
              "      <td>588</td>\n",
              "      <td>1.0</td>\n",
              "      <td>1</td>\n",
              "      <td>Frolicher-Stehli, Mr. Maxmillian</td>\n",
              "      <td>0.188908</td>\n",
              "      <td>60.00</td>\n",
              "      <td>1.0</td>\n",
              "      <td>1.0</td>\n",
              "      <td>13567</td>\n",
              "      <td>79.2000</td>\n",
              "      <td>B41</td>\n",
              "      <td>C</td>\n",
              "    </tr>\n",
              "    <tr>\n",
              "      <th>15</th>\n",
              "      <td>619</td>\n",
              "      <td>1.0</td>\n",
              "      <td>2</td>\n",
              "      <td>Becker, Miss. Marion Louise</td>\n",
              "      <td>0.742038</td>\n",
              "      <td>4.00</td>\n",
              "      <td>2.0</td>\n",
              "      <td>1.0</td>\n",
              "      <td>230136</td>\n",
              "      <td>39.0000</td>\n",
              "      <td>F4</td>\n",
              "      <td>S</td>\n",
              "    </tr>\n",
              "    <tr>\n",
              "      <th>16</th>\n",
              "      <td>743</td>\n",
              "      <td>1.0</td>\n",
              "      <td>1</td>\n",
              "      <td>Ryerson, Miss. Susan Parker \"Suzette\"</td>\n",
              "      <td>0.742038</td>\n",
              "      <td>21.00</td>\n",
              "      <td>2.0</td>\n",
              "      <td>2.0</td>\n",
              "      <td>PC 17608</td>\n",
              "      <td>262.3750</td>\n",
              "      <td>B57 B59 B63 B66</td>\n",
              "      <td>C</td>\n",
              "    </tr>\n",
              "    <tr>\n",
              "      <th>17</th>\n",
              "      <td>764</td>\n",
              "      <td>1.0</td>\n",
              "      <td>1</td>\n",
              "      <td>Carter, Mrs. William Ernest (Lucile Polk)</td>\n",
              "      <td>0.742038</td>\n",
              "      <td>36.00</td>\n",
              "      <td>1.0</td>\n",
              "      <td>2.0</td>\n",
              "      <td>113760</td>\n",
              "      <td>120.0000</td>\n",
              "      <td>B96 B98</td>\n",
              "      <td>S</td>\n",
              "    </tr>\n",
              "    <tr>\n",
              "      <th>18</th>\n",
              "      <td>803</td>\n",
              "      <td>1.0</td>\n",
              "      <td>1</td>\n",
              "      <td>Carter, Master. William Thornton II</td>\n",
              "      <td>0.188908</td>\n",
              "      <td>11.00</td>\n",
              "      <td>1.0</td>\n",
              "      <td>2.0</td>\n",
              "      <td>113760</td>\n",
              "      <td>120.0000</td>\n",
              "      <td>B96 B98</td>\n",
              "      <td>S</td>\n",
              "    </tr>\n",
              "    <tr>\n",
              "      <th>19</th>\n",
              "      <td>821</td>\n",
              "      <td>1.0</td>\n",
              "      <td>1</td>\n",
              "      <td>Hays, Mrs. Charles Melville (Clara Jennings Gr...</td>\n",
              "      <td>0.742038</td>\n",
              "      <td>52.00</td>\n",
              "      <td>1.0</td>\n",
              "      <td>1.0</td>\n",
              "      <td>12749</td>\n",
              "      <td>93.5000</td>\n",
              "      <td>B69</td>\n",
              "      <td>S</td>\n",
              "    </tr>\n",
              "    <tr>\n",
              "      <th>20</th>\n",
              "      <td>836</td>\n",
              "      <td>1.0</td>\n",
              "      <td>1</td>\n",
              "      <td>Compton, Miss. Sara Rebecca</td>\n",
              "      <td>0.742038</td>\n",
              "      <td>39.00</td>\n",
              "      <td>1.0</td>\n",
              "      <td>1.0</td>\n",
              "      <td>PC 17756</td>\n",
              "      <td>83.1583</td>\n",
              "      <td>E49</td>\n",
              "      <td>C</td>\n",
              "    </tr>\n",
              "    <tr>\n",
              "      <th>21</th>\n",
              "      <td>872</td>\n",
              "      <td>1.0</td>\n",
              "      <td>1</td>\n",
              "      <td>Beckwith, Mrs. Richard Leonard (Sallie Monypeny)</td>\n",
              "      <td>0.742038</td>\n",
              "      <td>47.00</td>\n",
              "      <td>1.0</td>\n",
              "      <td>1.0</td>\n",
              "      <td>11751</td>\n",
              "      <td>52.5542</td>\n",
              "      <td>D35</td>\n",
              "      <td>S</td>\n",
              "    </tr>\n",
              "  </tbody>\n",
              "</table>\n",
              "</div>"
            ],
            "text/plain": [
              "    PassengerId  Survived  Pclass  ...      Fare            Cabin  Embarked\n",
              "0            11       1.0       3  ...   16.7000               G6         S\n",
              "1            89       1.0       1  ...  263.0000      C23 C25 C27         S\n",
              "2           184       1.0       2  ...   39.0000               F4         S\n",
              "3           194       1.0       2  ...   26.0000               F2         S\n",
              "4           249       1.0       1  ...   52.5542              D35         S\n",
              "5           306       1.0       1  ...  151.5500          C22 C26         S\n",
              "6           312       1.0       1  ...  262.3750  B57 B59 B63 B66         C\n",
              "7           320       1.0       1  ...  134.5000              E34         C\n",
              "8           341       1.0       2  ...   26.0000               F2         S\n",
              "9           342       1.0       1  ...  263.0000      C23 C25 C27         S\n",
              "10          391       1.0       1  ...  120.0000          B96 B98         S\n",
              "11          436       1.0       1  ...  120.0000          B96 B98         S\n",
              "12          559       1.0       1  ...   79.6500              E67         S\n",
              "13          582       1.0       1  ...  110.8833              C68         C\n",
              "14          588       1.0       1  ...   79.2000              B41         C\n",
              "15          619       1.0       2  ...   39.0000               F4         S\n",
              "16          743       1.0       1  ...  262.3750  B57 B59 B63 B66         C\n",
              "17          764       1.0       1  ...  120.0000          B96 B98         S\n",
              "18          803       1.0       1  ...  120.0000          B96 B98         S\n",
              "19          821       1.0       1  ...   93.5000              B69         S\n",
              "20          836       1.0       1  ...   83.1583              E49         C\n",
              "21          872       1.0       1  ...   52.5542              D35         S\n",
              "\n",
              "[22 rows x 12 columns]"
            ]
          },
          "metadata": {
            "tags": []
          },
          "execution_count": 9
        }
      ]
    },
    {
      "cell_type": "markdown",
      "metadata": {
        "id": "Sd1_ftBSCxL7"
      },
      "source": [
        "Fare değişkeninedeki outlier değerleri IQR metodunu kullanarak tespit ediniz, sınır değerlerini ve kaç tane outlier değer olduğunu yazdırınız."
      ]
    },
    {
      "cell_type": "code",
      "metadata": {
        "id": "y22IicXHC1lh",
        "outputId": "a89d2680-87dc-478d-cda6-1505ea442e2a",
        "colab": {
          "base_uri": "https://localhost:8080/",
          "height": 34
        }
      },
      "source": [
        "q1 = titanic[\"Fare\"].quantile(q=0.25)\n",
        "q3 = titanic[\"Fare\"].quantile(q=0.75)\n",
        "\n",
        "iqr = q3-q1\n",
        "iqr"
      ],
      "execution_count": 10,
      "outputs": [
        {
          "output_type": "execute_result",
          "data": {
            "text/plain": [
              "78.32079999999999"
            ]
          },
          "metadata": {
            "tags": []
          },
          "execution_count": 10
        }
      ]
    },
    {
      "cell_type": "markdown",
      "metadata": {
        "id": "ZVPo0PCkC5GK"
      },
      "source": [
        "Tespit ettiğiniz outlier'ları sınır değerler ile değiştiriniz."
      ]
    },
    {
      "cell_type": "code",
      "metadata": {
        "id": "n8NENHAVC6TL",
        "outputId": "daa9ec21-e8a5-445e-85ae-c6753aa54593",
        "colab": {
          "base_uri": "https://localhost:8080/",
          "height": 34
        }
      },
      "source": [
        "from scipy import stats \n",
        "iqr = stats.iqr(titanic[\"Fare\"]) \n",
        "iqr \n",
        "upper_limit = q3 + 1.5*iqr\n",
        "lower_limit = q1 - 1.5*iqr\n",
        "lower_limit, upper_limit"
      ],
      "execution_count": 11,
      "outputs": [
        {
          "output_type": "execute_result",
          "data": {
            "text/plain": [
              "(-64.92699999999999, 248.3562)"
            ]
          },
          "metadata": {
            "tags": []
          },
          "execution_count": 11
        }
      ]
    },
    {
      "cell_type": "markdown",
      "metadata": {
        "id": "Y9oTLqmdC8gi"
      },
      "source": [
        "Fare değişkeninedeki outlier değerleri Hard-Edges metodunu kullanarak tespit ediniz, sınır değerlerini ve kaç tane outlier değer olduğunu yazdırınız."
      ]
    },
    {
      "cell_type": "code",
      "metadata": {
        "id": "f-EP-lKuC9iC",
        "outputId": "1b7fec26-cf64-407e-fa91-a98ac612d307",
        "colab": {
          "base_uri": "https://localhost:8080/",
          "height": 34
        }
      },
      "source": [
        "lower_limit = titanic[\"Fare\"].quantile(q=0.01)\n",
        "upper_limit = titanic[\"Fare\"].quantile(q=0.99)\n",
        "lower_limit, upper_limit\n"
      ],
      "execution_count": 12,
      "outputs": [
        {
          "output_type": "execute_result",
          "data": {
            "text/plain": [
              "(18.653, 263.0)"
            ]
          },
          "metadata": {
            "tags": []
          },
          "execution_count": 12
        }
      ]
    },
    {
      "cell_type": "code",
      "metadata": {
        "id": "ZsIZOcgQPwM6"
      },
      "source": [
        "\n",
        "x_df= pd.read_csv(\"/content/train.csv\")\n"
      ],
      "execution_count": 17,
      "outputs": []
    },
    {
      "cell_type": "code",
      "metadata": {
        "id": "XrwkozTjlFU0"
      },
      "source": [
        "\n",
        "x_df[\"Fare\"][x_df[\"Fare\"] > upper_limit] = upper_limit\n",
        "x_df[\"Fare\"][x_df[\"Fare\"] < lower_limit] = lower_limit"
      ],
      "execution_count": null,
      "outputs": []
    },
    {
      "cell_type": "markdown",
      "metadata": {
        "id": "fsP39ZrFC_8q"
      },
      "source": [
        "Tespit ettiğiniz outlier'ları sınır değerler ile değiştiriniz."
      ]
    },
    {
      "cell_type": "code",
      "metadata": {
        "id": "tMpLQpDVQW69",
        "outputId": "e3b5f9b0-55a9-4e29-df24-beb477f431c1",
        "colab": {
          "base_uri": "https://localhost:8080/",
          "height": 34
        }
      },
      "source": [
        "x_df[\"Fare\"] .min(), x_df[\"Fare\"] .max(), x_df.shape"
      ],
      "execution_count": 21,
      "outputs": [
        {
          "output_type": "execute_result",
          "data": {
            "text/plain": [
              "(18.653, 263.0, (891, 12))"
            ]
          },
          "metadata": {
            "tags": []
          },
          "execution_count": 21
        }
      ]
    },
    {
      "cell_type": "markdown",
      "metadata": {
        "id": "kfilfpRnDEd9"
      },
      "source": [
        "Fare değişkeni için yukarıdaki 3 metodu kullanarak sınır değerler olarak bulduğunuz değerleri ve outlier sayılarını karşılaştırın. Bu değişken için hangisini kullanmak daha mantıklı olabilir?"
      ]
    },
    {
      "cell_type": "code",
      "metadata": {
        "id": "j2tdneM_DFYQ",
        "outputId": "3c98a9fb-7a7a-44c8-8ed8-a670e14852e1",
        "colab": {
          "base_uri": "https://localhost:8080/",
          "height": 54
        }
      },
      "source": [
        "print(\"Hard Edges yöntemi upper limit ve lower limit değerlerini karşılaştırılan diğer iki yönteme göre daha iyi  optimize etmiştir.\")"
      ],
      "execution_count": 22,
      "outputs": [
        {
          "output_type": "stream",
          "text": [
            "Hard Edges yöntemi upper limit ve lower limit değerlerini karşılaştırılan diğer iki yönteme göre daha iyi  optimize etmiştir.\n"
          ],
          "name": "stdout"
        }
      ]
    }
  ]
}